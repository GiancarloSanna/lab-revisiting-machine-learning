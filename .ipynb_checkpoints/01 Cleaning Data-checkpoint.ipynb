{
 "cells": [
  {
   "cell_type": "markdown",
   "id": "458786cd",
   "metadata": {},
   "source": [
    "# 0. Importing basic libraries"
   ]
  },
  {
   "cell_type": "code",
   "execution_count": 1,
   "id": "70f927b4",
   "metadata": {},
   "outputs": [],
   "source": [
    "import pandas as pd\n",
    "import numpy as np\n",
    "import matplotlib.pyplot as plt\n",
    "import seaborn as sns \n",
    "pd.set_option('display.max_columns', None)"
   ]
  },
  {
   "cell_type": "code",
   "execution_count": 2,
   "id": "4472e80d",
   "metadata": {},
   "outputs": [
    {
     "name": "stderr",
     "output_type": "stream",
     "text": [
      "C:\\Users\\Giancarlo\\AppData\\Local\\Temp\\ipykernel_3740\\1576110032.py:2: DtypeWarning: Columns (8) have mixed types. Specify dtype option on import or set low_memory=False.\n",
      "  df = pd.read_csv('learningSet.csv')\n"
     ]
    }
   ],
   "source": [
    "# Loading the data\n",
    "df = pd.read_csv('learningSet.csv')"
   ]
  },
  {
   "cell_type": "markdown",
   "id": "6bc24224",
   "metadata": {},
   "source": [
    "# Cleaning Data"
   ]
  },
  {
   "cell_type": "markdown",
   "id": "83f9c5af",
   "metadata": {},
   "source": [
    "# Lab 1. revisiting-machine-learning"
   ]
  },
  {
   "cell_type": "markdown",
   "id": "2118a060",
   "metadata": {},
   "source": [
    "## 1. Check for null values in all the columns"
   ]
  },
  {
   "cell_type": "code",
   "execution_count": 3,
   "id": "5201cdd4",
   "metadata": {},
   "outputs": [],
   "source": [
    "# Checking for null values\n",
    "# print(df.isna().sum())\n",
    "# Too long to check all visually"
   ]
  },
  {
   "cell_type": "markdown",
   "id": "3d5ed77d",
   "metadata": {},
   "source": [
    "## 2. Exclude the following variables by looking at the definitions. \n",
    "Create a new empty list called drop_list. We will append this list and then drop all the columns in this list later:"
   ]
  },
  {
   "cell_type": "code",
   "execution_count": 4,
   "id": "1616a3d3",
   "metadata": {},
   "outputs": [],
   "source": [
    "drop_list = []"
   ]
  },
  {
   "cell_type": "code",
   "execution_count": 5,
   "id": "0d6d6db2",
   "metadata": {},
   "outputs": [
    {
     "data": {
      "text/plain": [
       "True"
      ]
     },
     "execution_count": 5,
     "metadata": {},
     "output_type": "execute_result"
    }
   ],
   "source": [
    "'OSOURCE' in df.columns"
   ]
  },
  {
   "cell_type": "code",
   "execution_count": 6,
   "id": "6c1cd5b6",
   "metadata": {},
   "outputs": [
    {
     "data": {
      "text/plain": [
       "True"
      ]
     },
     "execution_count": 6,
     "metadata": {},
     "output_type": "execute_result"
    }
   ],
   "source": [
    "# ZIP CODE is actually spelled ZIP in the dataframe\n",
    "'ZIP' in df.columns"
   ]
  },
  {
   "cell_type": "code",
   "execution_count": 7,
   "id": "9b770506",
   "metadata": {},
   "outputs": [],
   "source": [
    "drop_list.append('OSOURCE')\n",
    "drop_list.append('ZIP')"
   ]
  },
  {
   "cell_type": "markdown",
   "id": "cef06fa8",
   "metadata": {},
   "source": [
    "## 3. Identify columns that over 85% missing values"
   ]
  },
  {
   "cell_type": "code",
   "execution_count": 8,
   "id": "b419fa64",
   "metadata": {},
   "outputs": [],
   "source": [
    "# Creating a function for this, in case we want to lower the threshhold later\n",
    "def check_na_columns(df,threshhold):\n",
    "    nulls_percent_df = pd.DataFrame(df.isna().sum()/len(df)).reset_index()\n",
    "    nulls_percent_df.columns = ['column_name', 'nulls_percentage']   \n",
    "    columns_above_threshold = nulls_percent_df[nulls_percent_df['nulls_percentage']>threshhold]\n",
    "    drop_columns_list = list(columns_above_threshold['column_name'])\n",
    "    return drop_columns_list"
   ]
  },
  {
   "cell_type": "code",
   "execution_count": 9,
   "id": "591189f6",
   "metadata": {},
   "outputs": [
    {
     "name": "stdout",
     "output_type": "stream",
     "text": [
      "['NUMCHLD', 'RDATE_3', 'RDATE_4', 'RDATE_5', 'RDATE_6', 'RDATE_7', 'RDATE_10', 'RDATE_13', 'RDATE_15', 'RDATE_17', 'RDATE_20', 'RDATE_21', 'RDATE_23', 'RAMNT_3', 'RAMNT_4', 'RAMNT_5', 'RAMNT_6', 'RAMNT_7', 'RAMNT_10', 'RAMNT_13', 'RAMNT_15', 'RAMNT_17', 'RAMNT_20', 'RAMNT_21', 'RAMNT_23']\n"
     ]
    }
   ],
   "source": [
    "drop_list2 = check_na_columns(df,0.85)\n",
    "# The WEALTH1 and WEALTH2 columns, that we want to keep are not in here,\n",
    "# so we can drop the whole list\n",
    "print(drop_list2)"
   ]
  },
  {
   "cell_type": "code",
   "execution_count": 10,
   "id": "826803eb",
   "metadata": {},
   "outputs": [],
   "source": [
    "drop_list = drop_list + drop_list2"
   ]
  },
  {
   "cell_type": "markdown",
   "id": "e275a490",
   "metadata": {},
   "source": [
    "## 4. Remove those columns from the dataframe"
   ]
  },
  {
   "cell_type": "code",
   "execution_count": 11,
   "id": "a8e2632c",
   "metadata": {},
   "outputs": [
    {
     "data": {
      "text/plain": [
       "(95412, 481)"
      ]
     },
     "execution_count": 11,
     "metadata": {},
     "output_type": "execute_result"
    }
   ],
   "source": [
    "df.shape"
   ]
  },
  {
   "cell_type": "code",
   "execution_count": 12,
   "id": "f3f85fed",
   "metadata": {},
   "outputs": [],
   "source": [
    "df = df.drop(drop_list, axis = 1)"
   ]
  },
  {
   "cell_type": "code",
   "execution_count": 13,
   "id": "6233e432",
   "metadata": {},
   "outputs": [
    {
     "data": {
      "text/plain": [
       "(95412, 454)"
      ]
     },
     "execution_count": 13,
     "metadata": {},
     "output_type": "execute_result"
    }
   ],
   "source": [
    "df.shape"
   ]
  },
  {
   "cell_type": "markdown",
   "id": "effcde7b",
   "metadata": {},
   "source": [
    "## 5. Reduce the number of categories in the column GENDER. \n",
    "The column should only have either \"M\" for males, \"F\" for females, and \"other\" for all the rest\n",
    "Note that there are a few null values in the column. We will first replace those null values using the code below:\n",
    "\n",
    "print(categorical['GENDER'].value_counts())\n",
    "categorical['GENDER'] = categorical['GENDER'].fillna('F')"
   ]
  },
  {
   "cell_type": "code",
   "execution_count": 14,
   "id": "f6258557",
   "metadata": {},
   "outputs": [],
   "source": [
    "df['GENDER'].fillna('F', inplace = True)"
   ]
  },
  {
   "cell_type": "code",
   "execution_count": 15,
   "id": "058d3c2c",
   "metadata": {},
   "outputs": [
    {
     "data": {
      "text/plain": [
       "F    51277\n",
       "M    39094\n",
       "      2957\n",
       "U     1715\n",
       "J      365\n",
       "C        2\n",
       "A        2\n",
       "Name: GENDER, dtype: int64"
      ]
     },
     "execution_count": 15,
     "metadata": {},
     "output_type": "execute_result"
    }
   ],
   "source": [
    "# So we have to just change all the other value to 'other'\n",
    "df['GENDER'].value_counts()"
   ]
  },
  {
   "cell_type": "code",
   "execution_count": 16,
   "id": "a7e672bc",
   "metadata": {},
   "outputs": [],
   "source": [
    "def clean_gender(x):\n",
    "    if x in ['F','M']:\n",
    "        return x\n",
    "    else:\n",
    "        return 'other'"
   ]
  },
  {
   "cell_type": "code",
   "execution_count": 17,
   "id": "0d5a90bf",
   "metadata": {},
   "outputs": [
    {
     "data": {
      "text/plain": [
       "F        51277\n",
       "M        39094\n",
       "other     5041\n",
       "Name: GENDER, dtype: int64"
      ]
     },
     "execution_count": 17,
     "metadata": {},
     "output_type": "execute_result"
    }
   ],
   "source": [
    "df.GENDER = df.GENDER.apply(clean_gender)\n",
    "df.GENDER.value_counts()"
   ]
  },
  {
   "cell_type": "code",
   "execution_count": null,
   "id": "92e1d4c0",
   "metadata": {},
   "outputs": [],
   "source": []
  },
  {
   "cell_type": "markdown",
   "id": "89720c5e",
   "metadata": {},
   "source": [
    "# Lab 2. feature-engineering"
   ]
  },
  {
   "cell_type": "markdown",
   "id": "13afe328",
   "metadata": {},
   "source": [
    "Use appropriate methods to clean the columns GEOCODE2, WEALTH1, ADI, DMA,and MSA."
   ]
  },
  {
   "cell_type": "markdown",
   "id": "edc4d452",
   "metadata": {},
   "source": [
    "#### GEOCODE2"
   ]
  },
  {
   "cell_type": "code",
   "execution_count": 18,
   "id": "7648292e",
   "metadata": {},
   "outputs": [
    {
     "data": {
      "text/plain": [
       "A      34484\n",
       "B      28505\n",
       "D      16580\n",
       "C      15524\n",
       "         187\n",
       "NaN      132\n",
       "Name: GEOCODE2, dtype: int64"
      ]
     },
     "execution_count": 18,
     "metadata": {},
     "output_type": "execute_result"
    }
   ],
   "source": [
    "df['GEOCODE2'].value_counts(dropna=False)"
   ]
  },
  {
   "cell_type": "code",
   "execution_count": 19,
   "id": "0633ce94",
   "metadata": {},
   "outputs": [],
   "source": [
    "# Set modal value for NaN, since there are very few NaN values\n",
    "df['GEOCODE2'] = df['GEOCODE2'].fillna('A')\n",
    "df['GEOCODE2'] = df['GEOCODE2'].apply(lambda x: x.replace(' ','A'))"
   ]
  },
  {
   "cell_type": "markdown",
   "id": "61e66fa8",
   "metadata": {},
   "source": [
    "#### WEALTH1"
   ]
  },
  {
   "cell_type": "code",
   "execution_count": 20,
   "id": "2573722d",
   "metadata": {},
   "outputs": [
    {
     "data": {
      "text/plain": [
       "NaN    44732\n",
       "9.0     7585\n",
       "8.0     6793\n",
       "7.0     6198\n",
       "6.0     5825\n",
       "5.0     5280\n",
       "4.0     4810\n",
       "3.0     4237\n",
       "2.0     4085\n",
       "1.0     3454\n",
       "0.0     2413\n",
       "Name: WEALTH1, dtype: int64"
      ]
     },
     "execution_count": 20,
     "metadata": {},
     "output_type": "execute_result"
    }
   ],
   "source": [
    "# With nearly 45000 there are a lot of NaN values.\n",
    "df['WEALTH1'].value_counts(dropna = False)"
   ]
  },
  {
   "cell_type": "code",
   "execution_count": 21,
   "id": "bdeff867",
   "metadata": {},
   "outputs": [
    {
     "name": "stderr",
     "output_type": "stream",
     "text": [
      "D:\\Users\\Giancarlo\\anaconda3\\lib\\site-packages\\seaborn\\distributions.py:2619: FutureWarning: `distplot` is a deprecated function and will be removed in a future version. Please adapt your code to use either `displot` (a figure-level function with similar flexibility) or `histplot` (an axes-level function for histograms).\n",
      "  warnings.warn(msg, FutureWarning)\n"
     ]
    },
    {
     "data": {
      "image/png": "[encoded data removed]",
      "text/plain": [
       "<Figure size 640x480 with 1 Axes>"
      ]
     },
     "metadata": {},
     "output_type": "display_data"
    }
   ],
   "source": [
    "sns.distplot(df['WEALTH1']) \n",
    "plt.show()"
   ]
  },
  {
   "cell_type": "code",
   "execution_count": 22,
   "id": "561788a9",
   "metadata": {},
   "outputs": [
    {
     "data": {
      "text/plain": [
       "5"
      ]
     },
     "execution_count": 22,
     "metadata": {},
     "output_type": "execute_result"
    }
   ],
   "source": [
    "# Wel calculate the median value to insert for the NaN\n",
    "int(np.mean(df[df['WEALTH1'] != np.NaN]['WEALTH1']))"
   ]
  },
  {
   "cell_type": "code",
   "execution_count": 23,
   "id": "4c59b6e9",
   "metadata": {},
   "outputs": [
    {
     "data": {
      "text/plain": [
       "0"
      ]
     },
     "execution_count": 23,
     "metadata": {},
     "output_type": "execute_result"
    }
   ],
   "source": [
    "df['WEALTH1'].fillna(5.0, inplace = True)\n",
    "df['WEALTH1'].isna().sum()"
   ]
  },
  {
   "cell_type": "markdown",
   "id": "260af3a8",
   "metadata": {},
   "source": [
    "### ADI DMA MSA\n",
    "There is no information in the documentation, other than that these values are codes.\n",
    "We cant know if they represent anything wich is correlated to our targets, so we keep them fort now and will clean them."
   ]
  },
  {
   "cell_type": "markdown",
   "id": "874ff2bb",
   "metadata": {},
   "source": [
    "#### ADI"
   ]
  },
  {
   "cell_type": "code",
   "execution_count": 24,
   "id": "9eb8cd2b",
   "metadata": {},
   "outputs": [],
   "source": [
    "# df['ADI'].value_counts(dropna = False)"
   ]
  },
  {
   "cell_type": "code",
   "execution_count": 25,
   "id": "de1870e2",
   "metadata": {},
   "outputs": [
    {
     "data": {
      "text/plain": [
       "132"
      ]
     },
     "execution_count": 25,
     "metadata": {},
     "output_type": "execute_result"
    }
   ],
   "source": [
    "# We only got 132 NaN values\n",
    "df['ADI'].isna().sum()"
   ]
  },
  {
   "cell_type": "code",
   "execution_count": 26,
   "id": "89def1a0",
   "metadata": {},
   "outputs": [
    {
     "name": "stderr",
     "output_type": "stream",
     "text": [
      "D:\\Users\\Giancarlo\\anaconda3\\lib\\site-packages\\seaborn\\distributions.py:2619: FutureWarning: `distplot` is a deprecated function and will be removed in a future version. Please adapt your code to use either `displot` (a figure-level function with similar flexibility) or `histplot` (an axes-level function for histograms).\n",
      "  warnings.warn(msg, FutureWarning)\n"
     ]
    },
    {
     "data": {
      "image/png": "[encoded data removed]",
      "text/plain": [
       "<Figure size 640x480 with 1 Axes>"
      ]
     },
     "metadata": {},
     "output_type": "display_data"
    }
   ],
   "source": [
    "# We will fill in the mean value, there is nothing that would speak against it.\n",
    "sns.distplot(df['ADI']) \n",
    "plt.show()"
   ]
  },
  {
   "cell_type": "code",
   "execution_count": 27,
   "id": "1f9d97f5",
   "metadata": {},
   "outputs": [],
   "source": [
    "mean_ADI = np.mean(df[df['ADI']!=np.NaN]['ADI'])"
   ]
  },
  {
   "cell_type": "code",
   "execution_count": 28,
   "id": "e8a41f95",
   "metadata": {},
   "outputs": [],
   "source": [
    "df['ADI'].fillna(mean_ADI, inplace = True)"
   ]
  },
  {
   "cell_type": "markdown",
   "id": "c4877ad8",
   "metadata": {},
   "source": [
    "#### DMA"
   ]
  },
  {
   "cell_type": "code",
   "execution_count": 29,
   "id": "7a25d544",
   "metadata": {},
   "outputs": [],
   "source": [
    "# df['DMA'].value_counts(dropna = False)"
   ]
  },
  {
   "cell_type": "code",
   "execution_count": 30,
   "id": "86736f63",
   "metadata": {},
   "outputs": [
    {
     "data": {
      "text/plain": [
       "132"
      ]
     },
     "execution_count": 30,
     "metadata": {},
     "output_type": "execute_result"
    }
   ],
   "source": [
    "df['DMA'].isna().sum()"
   ]
  },
  {
   "cell_type": "code",
   "execution_count": 31,
   "id": "6b69b2c3",
   "metadata": {},
   "outputs": [],
   "source": [
    "# Same as for ADI, but rounded since we have only full values here\n",
    "mean_DMA = int(np.mean(df[df['DMA']!=np.NaN]['DMA']))\n",
    "df['DMA'].fillna(mean_ADI, inplace = True)"
   ]
  },
  {
   "cell_type": "markdown",
   "id": "684b0da6",
   "metadata": {},
   "source": [
    "#### MSA"
   ]
  },
  {
   "cell_type": "code",
   "execution_count": 32,
   "id": "937221d1",
   "metadata": {},
   "outputs": [],
   "source": [
    "# df['MSA'].value_counts(dropna = False)"
   ]
  },
  {
   "cell_type": "code",
   "execution_count": 33,
   "id": "bce8eec0",
   "metadata": {},
   "outputs": [
    {
     "data": {
      "text/plain": [
       "132"
      ]
     },
     "execution_count": 33,
     "metadata": {},
     "output_type": "execute_result"
    }
   ],
   "source": [
    "# Same as with  ADI and DMA\n",
    "df['MSA'].isna().sum()"
   ]
  },
  {
   "cell_type": "code",
   "execution_count": 34,
   "id": "f80e6345",
   "metadata": {},
   "outputs": [],
   "source": [
    "mean_MSA = np.mean(df[df['MSA']!=np.NaN]['MSA'])\n",
    "df['MSA'].fillna(mean_ADI, inplace = True)"
   ]
  },
  {
   "cell_type": "markdown",
   "id": "72877bd3",
   "metadata": {},
   "source": [
    "## Check for null values in the numerical columns."
   ]
  },
  {
   "cell_type": "markdown",
   "id": "a98300b2",
   "metadata": {},
   "source": [
    "## First apply the changes fron class"
   ]
  },
  {
   "cell_type": "markdown",
   "id": "53b9eee9",
   "metadata": {},
   "source": [
    "#### First we split into numerical categorical and Y columns"
   ]
  },
  {
   "cell_type": "code",
   "execution_count": 35,
   "id": "e810c85d",
   "metadata": {},
   "outputs": [],
   "source": [
    "Y = df[['TARGET_B', 'TARGET_D']]\n",
    "numerical = df.select_dtypes(np.number)\n",
    "numerical = numerical.drop(columns = ['TARGET_B', 'TARGET_D'])\n",
    "categorical = df.select_dtypes(object)"
   ]
  },
  {
   "cell_type": "markdown",
   "id": "aa96625e",
   "metadata": {},
   "source": [
    "#### We apply the changes we made in class to our numerical dataframe"
   ]
  },
  {
   "cell_type": "code",
   "execution_count": 36,
   "id": "64cb7ffc",
   "metadata": {},
   "outputs": [],
   "source": [
    "# Drop the ADATE columns\n",
    "for i in numerical.columns:\n",
    "    if 'ADATE' in i:\n",
    "        numerical = numerical.drop(columns=i)"
   ]
  },
  {
   "cell_type": "code",
   "execution_count": 37,
   "id": "e7ff6b4e",
   "metadata": {},
   "outputs": [
    {
     "data": {
      "text/plain": [
       "0"
      ]
     },
     "execution_count": 37,
     "metadata": {},
     "output_type": "execute_result"
    }
   ],
   "source": [
    "# Filling the age column with the mean\n",
    "numerical['AGE'].fillna(np.mean(numerical[numerical['AGE']!=np.NaN]['AGE']), inplace = True)\n",
    "numerical['AGE'].isna().sum()"
   ]
  },
  {
   "cell_type": "code",
   "execution_count": 38,
   "id": "f9567804",
   "metadata": {},
   "outputs": [
    {
     "data": {
      "text/plain": [
       "0"
      ]
     },
     "execution_count": 38,
     "metadata": {},
     "output_type": "execute_result"
    }
   ],
   "source": [
    "# Income\n",
    "numerical['INCOME'] = numerical['INCOME'].astype('object')\n",
    "numerical['INCOME'] = numerical['INCOME'].fillna(5.0)\n",
    "numerical['INCOME'].isna().sum()"
   ]
  },
  {
   "cell_type": "code",
   "execution_count": 39,
   "id": "0e22e974",
   "metadata": {},
   "outputs": [],
   "source": [
    "# CLUSTER2\n",
    "numerical['CLUSTER2'] = numerical['CLUSTER2'].fillna(np.ceil(np.mean(numerical['CLUSTER2'])))"
   ]
  },
  {
   "cell_type": "code",
   "execution_count": 40,
   "id": "5880e52b",
   "metadata": {},
   "outputs": [
    {
     "data": {
      "text/plain": [
       "0"
      ]
     },
     "execution_count": 40,
     "metadata": {},
     "output_type": "execute_result"
    }
   ],
   "source": [
    "# WEALTH2\n",
    "# Wel calculate the median value to insert for the NaN\n",
    "int(np.mean(numerical[numerical['WEALTH2'] != np.NaN]['WEALTH2']))\n",
    "numerical['WEALTH2'].fillna(5.0, inplace = True)\n",
    "numerical['WEALTH2'].isna().sum()"
   ]
  },
  {
   "cell_type": "code",
   "execution_count": 41,
   "id": "c3924e05",
   "metadata": {},
   "outputs": [
    {
     "data": {
      "text/plain": [
       "8"
      ]
     },
     "execution_count": 41,
     "metadata": {},
     "output_type": "execute_result"
    }
   ],
   "source": [
    "# TIMELAG, insert median\n",
    "med_timelag = int(np.mean(df[df['TIMELAG'] != np.NaN]['TIMELAG']))\n",
    "med_timelag"
   ]
  },
  {
   "cell_type": "code",
   "execution_count": 42,
   "id": "a5ef9542",
   "metadata": {},
   "outputs": [],
   "source": [
    "def clean_timelag(x):\n",
    "    if x > 30:\n",
    "        return med_timelag\n",
    "    else:\n",
    "        return x"
   ]
  },
  {
   "cell_type": "code",
   "execution_count": 43,
   "id": "a4fc5ead",
   "metadata": {},
   "outputs": [
    {
     "data": {
      "text/plain": [
       "0"
      ]
     },
     "execution_count": 43,
     "metadata": {},
     "output_type": "execute_result"
    }
   ],
   "source": [
    "numerical['TIMELAG'].fillna(med_timelag, inplace = True)\n",
    "numerical['TIMELAG'] = numerical['TIMELAG'].apply(clean_timelag)\n",
    "numerical.TIMELAG.isna().sum()"
   ]
  },
  {
   "cell_type": "code",
   "execution_count": 44,
   "id": "ade02051",
   "metadata": {},
   "outputs": [],
   "source": [
    "# Dropping all null values above 25%"
   ]
  },
  {
   "cell_type": "code",
   "execution_count": null,
   "id": "b65a324f",
   "metadata": {},
   "outputs": [],
   "source": []
  },
  {
   "cell_type": "code",
   "execution_count": null,
   "id": "d7893a17",
   "metadata": {},
   "outputs": [],
   "source": []
  },
  {
   "cell_type": "code",
   "execution_count": null,
   "id": "a784187c",
   "metadata": {},
   "outputs": [],
   "source": []
  },
  {
   "cell_type": "markdown",
   "id": "6368ec01",
   "metadata": {},
   "source": [
    "## We applied everything from class and check if there are further null values"
   ]
  },
  {
   "cell_type": "code",
   "execution_count": 45,
   "id": "d150d940",
   "metadata": {},
   "outputs": [
    {
     "data": {
      "text/html": [
       "<div>\n",
       "<style scoped>\n",
       "    .dataframe tbody tr th:only-of-type {\n",
       "        vertical-align: middle;\n",
       "    }\n",
       "\n",
       "    .dataframe tbody tr th {\n",
       "        vertical-align: top;\n",
       "    }\n",
       "\n",
       "    .dataframe thead th {\n",
       "        text-align: right;\n",
       "    }\n",
       "</style>\n",
       "<table border=\"1\" class=\"dataframe\">\n",
       "  <thead>\n",
       "    <tr style=\"text-align: right;\">\n",
       "      <th></th>\n",
       "      <th>nulls</th>\n",
       "    </tr>\n",
       "  </thead>\n",
       "  <tbody>\n",
       "    <tr>\n",
       "      <th>MBCRAFT</th>\n",
       "      <td>52854</td>\n",
       "    </tr>\n",
       "    <tr>\n",
       "      <th>MBGARDEN</th>\n",
       "      <td>52854</td>\n",
       "    </tr>\n",
       "    <tr>\n",
       "      <th>MBBOOKS</th>\n",
       "      <td>52854</td>\n",
       "    </tr>\n",
       "    <tr>\n",
       "      <th>MBCOLECT</th>\n",
       "      <td>52914</td>\n",
       "    </tr>\n",
       "    <tr>\n",
       "      <th>MAGFAML</th>\n",
       "      <td>52854</td>\n",
       "    </tr>\n",
       "    <tr>\n",
       "      <th>MAGFEM</th>\n",
       "      <td>52854</td>\n",
       "    </tr>\n",
       "    <tr>\n",
       "      <th>MAGMALE</th>\n",
       "      <td>52854</td>\n",
       "    </tr>\n",
       "    <tr>\n",
       "      <th>PUBGARDN</th>\n",
       "      <td>52854</td>\n",
       "    </tr>\n",
       "    <tr>\n",
       "      <th>PUBCULIN</th>\n",
       "      <td>52854</td>\n",
       "    </tr>\n",
       "    <tr>\n",
       "      <th>PUBHLTH</th>\n",
       "      <td>52854</td>\n",
       "    </tr>\n",
       "    <tr>\n",
       "      <th>PUBDOITY</th>\n",
       "      <td>52854</td>\n",
       "    </tr>\n",
       "    <tr>\n",
       "      <th>PUBNEWFN</th>\n",
       "      <td>52854</td>\n",
       "    </tr>\n",
       "    <tr>\n",
       "      <th>PUBPHOTO</th>\n",
       "      <td>52854</td>\n",
       "    </tr>\n",
       "    <tr>\n",
       "      <th>PUBOPP</th>\n",
       "      <td>52854</td>\n",
       "    </tr>\n",
       "    <tr>\n",
       "      <th>RDATE_8</th>\n",
       "      <td>73940</td>\n",
       "    </tr>\n",
       "    <tr>\n",
       "      <th>RDATE_9</th>\n",
       "      <td>78678</td>\n",
       "    </tr>\n",
       "    <tr>\n",
       "      <th>RDATE_11</th>\n",
       "      <td>80672</td>\n",
       "    </tr>\n",
       "    <tr>\n",
       "      <th>RDATE_12</th>\n",
       "      <td>69712</td>\n",
       "    </tr>\n",
       "    <tr>\n",
       "      <th>RDATE_14</th>\n",
       "      <td>72095</td>\n",
       "    </tr>\n",
       "    <tr>\n",
       "      <th>RDATE_16</th>\n",
       "      <td>68418</td>\n",
       "    </tr>\n",
       "    <tr>\n",
       "      <th>RDATE_18</th>\n",
       "      <td>75634</td>\n",
       "    </tr>\n",
       "    <tr>\n",
       "      <th>RDATE_19</th>\n",
       "      <td>79535</td>\n",
       "    </tr>\n",
       "    <tr>\n",
       "      <th>RDATE_22</th>\n",
       "      <td>74539</td>\n",
       "    </tr>\n",
       "    <tr>\n",
       "      <th>RDATE_24</th>\n",
       "      <td>77674</td>\n",
       "    </tr>\n",
       "    <tr>\n",
       "      <th>RAMNT_8</th>\n",
       "      <td>73940</td>\n",
       "    </tr>\n",
       "    <tr>\n",
       "      <th>RAMNT_9</th>\n",
       "      <td>78678</td>\n",
       "    </tr>\n",
       "    <tr>\n",
       "      <th>RAMNT_11</th>\n",
       "      <td>80672</td>\n",
       "    </tr>\n",
       "    <tr>\n",
       "      <th>RAMNT_12</th>\n",
       "      <td>69712</td>\n",
       "    </tr>\n",
       "    <tr>\n",
       "      <th>RAMNT_14</th>\n",
       "      <td>72095</td>\n",
       "    </tr>\n",
       "    <tr>\n",
       "      <th>RAMNT_16</th>\n",
       "      <td>68418</td>\n",
       "    </tr>\n",
       "    <tr>\n",
       "      <th>RAMNT_18</th>\n",
       "      <td>75634</td>\n",
       "    </tr>\n",
       "    <tr>\n",
       "      <th>RAMNT_19</th>\n",
       "      <td>79535</td>\n",
       "    </tr>\n",
       "    <tr>\n",
       "      <th>RAMNT_22</th>\n",
       "      <td>74539</td>\n",
       "    </tr>\n",
       "    <tr>\n",
       "      <th>RAMNT_24</th>\n",
       "      <td>77674</td>\n",
       "    </tr>\n",
       "    <tr>\n",
       "      <th>NEXTDATE</th>\n",
       "      <td>9973</td>\n",
       "    </tr>\n",
       "  </tbody>\n",
       "</table>\n",
       "</div>"
      ],
      "text/plain": [
       "          nulls\n",
       "MBCRAFT   52854\n",
       "MBGARDEN  52854\n",
       "MBBOOKS   52854\n",
       "MBCOLECT  52914\n",
       "MAGFAML   52854\n",
       "MAGFEM    52854\n",
       "MAGMALE   52854\n",
       "PUBGARDN  52854\n",
       "PUBCULIN  52854\n",
       "PUBHLTH   52854\n",
       "PUBDOITY  52854\n",
       "PUBNEWFN  52854\n",
       "PUBPHOTO  52854\n",
       "PUBOPP    52854\n",
       "RDATE_8   73940\n",
       "RDATE_9   78678\n",
       "RDATE_11  80672\n",
       "RDATE_12  69712\n",
       "RDATE_14  72095\n",
       "RDATE_16  68418\n",
       "RDATE_18  75634\n",
       "RDATE_19  79535\n",
       "RDATE_22  74539\n",
       "RDATE_24  77674\n",
       "RAMNT_8   73940\n",
       "RAMNT_9   78678\n",
       "RAMNT_11  80672\n",
       "RAMNT_12  69712\n",
       "RAMNT_14  72095\n",
       "RAMNT_16  68418\n",
       "RAMNT_18  75634\n",
       "RAMNT_19  79535\n",
       "RAMNT_22  74539\n",
       "RAMNT_24  77674\n",
       "NEXTDATE   9973"
      ]
     },
     "execution_count": 45,
     "metadata": {},
     "output_type": "execute_result"
    }
   ],
   "source": [
    "nullframe_num = pd.DataFrame(numerical.isna().sum(), columns = ['nulls'])\n",
    "nullframe_num[nullframe_num['nulls'] != 0]"
   ]
  },
  {
   "cell_type": "markdown",
   "id": "216e6c72",
   "metadata": {},
   "source": [
    "## Mail order offers"
   ]
  },
  {
   "cell_type": "code",
   "execution_count": 46,
   "id": "de34b98f",
   "metadata": {},
   "outputs": [],
   "source": [
    "hobbylist = ['MBCRAFT','MBGARDEN','MBBOOKS','MBCOLECT','MAGFAML','MAGFEM','MAGMALE','PUBGARDN',\n",
    "              'PUBCULIN','PUBHLTH','PUBDOITY','PUBNEWFN','PUBPHOTO','PUBOPP']\n",
    "# All of these values habve the same nan values and represent the times a customer has responded to\n",
    "# another offering."
   ]
  },
  {
   "cell_type": "code",
   "execution_count": 47,
   "id": "3885ba3c",
   "metadata": {},
   "outputs": [
    {
     "data": {
      "text/plain": [
       "0.0    37707\n",
       "1.0     3521\n",
       "2.0     1079\n",
       "3.0      215\n",
       "4.0       33\n",
       "5.0        2\n",
       "6.0        1\n",
       "Name: MBCRAFT, dtype: int64"
      ]
     },
     "execution_count": 47,
     "metadata": {},
     "output_type": "execute_result"
    }
   ],
   "source": [
    "numerical['MBCRAFT'].value_counts()"
   ]
  },
  {
   "cell_type": "code",
   "execution_count": 48,
   "id": "1c45b595",
   "metadata": {},
   "outputs": [
    {
     "data": {
      "text/plain": [
       "0.0    40286\n",
       "1.0     2054\n",
       "2.0      193\n",
       "3.0       22\n",
       "4.0        3\n",
       "Name: MBGARDEN, dtype: int64"
      ]
     },
     "execution_count": 48,
     "metadata": {},
     "output_type": "execute_result"
    }
   ],
   "source": [
    "numerical['MBGARDEN'].value_counts()"
   ]
  },
  {
   "cell_type": "code",
   "execution_count": 49,
   "id": "aa0f5a10",
   "metadata": {},
   "outputs": [
    {
     "data": {
      "text/plain": [
       "0.0    37237\n",
       "1.0     3401\n",
       "2.0      879\n",
       "3.0      454\n",
       "4.0      183\n",
       "9.0      145\n",
       "5.0      109\n",
       "6.0       75\n",
       "7.0       43\n",
       "8.0       32\n",
       "Name: PUBOPP, dtype: int64"
      ]
     },
     "execution_count": 49,
     "metadata": {},
     "output_type": "execute_result"
    }
   ],
   "source": [
    "numerical['PUBOPP'].value_counts()"
   ]
  },
  {
   "cell_type": "code",
   "execution_count": 50,
   "id": "5ee1c5c3",
   "metadata": {},
   "outputs": [
    {
     "data": {
      "text/plain": [
       "(95412, 356)"
      ]
     },
     "execution_count": 50,
     "metadata": {},
     "output_type": "execute_result"
    }
   ],
   "source": [
    "numerical.shape"
   ]
  },
  {
   "cell_type": "code",
   "execution_count": 51,
   "id": "9c25325f",
   "metadata": {},
   "outputs": [
    {
     "data": {
      "text/plain": [
       "(95412, 342)"
      ]
     },
     "execution_count": 51,
     "metadata": {},
     "output_type": "execute_result"
    }
   ],
   "source": [
    "# We see these values all have the vast majority as 0 and in addition even more NaN values,\n",
    "# that does not help us at all, we drop them.\n",
    "numerical = numerical.drop(columns = hobbylist)\n",
    "numerical.shape"
   ]
  },
  {
   "cell_type": "markdown",
   "id": "6a79ea28",
   "metadata": {},
   "source": [
    "## RDATE\n",
    "Already in class we saw, that the RDATE are dates, when a mailing was send out and don't have anything to do with the actual customer, so we delete it."
   ]
  },
  {
   "cell_type": "code",
   "execution_count": 52,
   "id": "64c6599b",
   "metadata": {},
   "outputs": [
    {
     "data": {
      "text/html": [
       "<div>\n",
       "<style scoped>\n",
       "    .dataframe tbody tr th:only-of-type {\n",
       "        vertical-align: middle;\n",
       "    }\n",
       "\n",
       "    .dataframe tbody tr th {\n",
       "        vertical-align: top;\n",
       "    }\n",
       "\n",
       "    .dataframe thead th {\n",
       "        text-align: right;\n",
       "    }\n",
       "</style>\n",
       "<table border=\"1\" class=\"dataframe\">\n",
       "  <thead>\n",
       "    <tr style=\"text-align: right;\">\n",
       "      <th></th>\n",
       "      <th>nulls</th>\n",
       "    </tr>\n",
       "  </thead>\n",
       "  <tbody>\n",
       "    <tr>\n",
       "      <th>RDATE_8</th>\n",
       "      <td>73940</td>\n",
       "    </tr>\n",
       "    <tr>\n",
       "      <th>RDATE_9</th>\n",
       "      <td>78678</td>\n",
       "    </tr>\n",
       "    <tr>\n",
       "      <th>RDATE_11</th>\n",
       "      <td>80672</td>\n",
       "    </tr>\n",
       "    <tr>\n",
       "      <th>RDATE_12</th>\n",
       "      <td>69712</td>\n",
       "    </tr>\n",
       "    <tr>\n",
       "      <th>RDATE_14</th>\n",
       "      <td>72095</td>\n",
       "    </tr>\n",
       "    <tr>\n",
       "      <th>RDATE_16</th>\n",
       "      <td>68418</td>\n",
       "    </tr>\n",
       "    <tr>\n",
       "      <th>RDATE_18</th>\n",
       "      <td>75634</td>\n",
       "    </tr>\n",
       "    <tr>\n",
       "      <th>RDATE_19</th>\n",
       "      <td>79535</td>\n",
       "    </tr>\n",
       "    <tr>\n",
       "      <th>RDATE_22</th>\n",
       "      <td>74539</td>\n",
       "    </tr>\n",
       "    <tr>\n",
       "      <th>RDATE_24</th>\n",
       "      <td>77674</td>\n",
       "    </tr>\n",
       "    <tr>\n",
       "      <th>RAMNT_8</th>\n",
       "      <td>73940</td>\n",
       "    </tr>\n",
       "    <tr>\n",
       "      <th>RAMNT_9</th>\n",
       "      <td>78678</td>\n",
       "    </tr>\n",
       "    <tr>\n",
       "      <th>RAMNT_11</th>\n",
       "      <td>80672</td>\n",
       "    </tr>\n",
       "    <tr>\n",
       "      <th>RAMNT_12</th>\n",
       "      <td>69712</td>\n",
       "    </tr>\n",
       "    <tr>\n",
       "      <th>RAMNT_14</th>\n",
       "      <td>72095</td>\n",
       "    </tr>\n",
       "    <tr>\n",
       "      <th>RAMNT_16</th>\n",
       "      <td>68418</td>\n",
       "    </tr>\n",
       "    <tr>\n",
       "      <th>RAMNT_18</th>\n",
       "      <td>75634</td>\n",
       "    </tr>\n",
       "    <tr>\n",
       "      <th>RAMNT_19</th>\n",
       "      <td>79535</td>\n",
       "    </tr>\n",
       "    <tr>\n",
       "      <th>RAMNT_22</th>\n",
       "      <td>74539</td>\n",
       "    </tr>\n",
       "    <tr>\n",
       "      <th>RAMNT_24</th>\n",
       "      <td>77674</td>\n",
       "    </tr>\n",
       "    <tr>\n",
       "      <th>NEXTDATE</th>\n",
       "      <td>9973</td>\n",
       "    </tr>\n",
       "  </tbody>\n",
       "</table>\n",
       "</div>"
      ],
      "text/plain": [
       "          nulls\n",
       "RDATE_8   73940\n",
       "RDATE_9   78678\n",
       "RDATE_11  80672\n",
       "RDATE_12  69712\n",
       "RDATE_14  72095\n",
       "RDATE_16  68418\n",
       "RDATE_18  75634\n",
       "RDATE_19  79535\n",
       "RDATE_22  74539\n",
       "RDATE_24  77674\n",
       "RAMNT_8   73940\n",
       "RAMNT_9   78678\n",
       "RAMNT_11  80672\n",
       "RAMNT_12  69712\n",
       "RAMNT_14  72095\n",
       "RAMNT_16  68418\n",
       "RAMNT_18  75634\n",
       "RAMNT_19  79535\n",
       "RAMNT_22  74539\n",
       "RAMNT_24  77674\n",
       "NEXTDATE   9973"
      ]
     },
     "execution_count": 52,
     "metadata": {},
     "output_type": "execute_result"
    }
   ],
   "source": [
    "nullframe_num = pd.DataFrame(numerical.isna().sum(), columns = ['nulls'])\n",
    "nullframe_num[nullframe_num['nulls'] != 0]"
   ]
  },
  {
   "cell_type": "code",
   "execution_count": 53,
   "id": "680cce09",
   "metadata": {},
   "outputs": [],
   "source": [
    "for i in numerical.columns:\n",
    "    if 'RDATE' in i:\n",
    "        numerical = numerical.drop(columns=[i])"
   ]
  },
  {
   "cell_type": "code",
   "execution_count": 54,
   "id": "2f6c33d5",
   "metadata": {},
   "outputs": [
    {
     "data": {
      "text/html": [
       "<div>\n",
       "<style scoped>\n",
       "    .dataframe tbody tr th:only-of-type {\n",
       "        vertical-align: middle;\n",
       "    }\n",
       "\n",
       "    .dataframe tbody tr th {\n",
       "        vertical-align: top;\n",
       "    }\n",
       "\n",
       "    .dataframe thead th {\n",
       "        text-align: right;\n",
       "    }\n",
       "</style>\n",
       "<table border=\"1\" class=\"dataframe\">\n",
       "  <thead>\n",
       "    <tr style=\"text-align: right;\">\n",
       "      <th></th>\n",
       "      <th>nulls</th>\n",
       "    </tr>\n",
       "  </thead>\n",
       "  <tbody>\n",
       "    <tr>\n",
       "      <th>RAMNT_8</th>\n",
       "      <td>73940</td>\n",
       "    </tr>\n",
       "    <tr>\n",
       "      <th>RAMNT_9</th>\n",
       "      <td>78678</td>\n",
       "    </tr>\n",
       "    <tr>\n",
       "      <th>RAMNT_11</th>\n",
       "      <td>80672</td>\n",
       "    </tr>\n",
       "    <tr>\n",
       "      <th>RAMNT_12</th>\n",
       "      <td>69712</td>\n",
       "    </tr>\n",
       "    <tr>\n",
       "      <th>RAMNT_14</th>\n",
       "      <td>72095</td>\n",
       "    </tr>\n",
       "    <tr>\n",
       "      <th>RAMNT_16</th>\n",
       "      <td>68418</td>\n",
       "    </tr>\n",
       "    <tr>\n",
       "      <th>RAMNT_18</th>\n",
       "      <td>75634</td>\n",
       "    </tr>\n",
       "    <tr>\n",
       "      <th>RAMNT_19</th>\n",
       "      <td>79535</td>\n",
       "    </tr>\n",
       "    <tr>\n",
       "      <th>RAMNT_22</th>\n",
       "      <td>74539</td>\n",
       "    </tr>\n",
       "    <tr>\n",
       "      <th>RAMNT_24</th>\n",
       "      <td>77674</td>\n",
       "    </tr>\n",
       "    <tr>\n",
       "      <th>NEXTDATE</th>\n",
       "      <td>9973</td>\n",
       "    </tr>\n",
       "  </tbody>\n",
       "</table>\n",
       "</div>"
      ],
      "text/plain": [
       "          nulls\n",
       "RAMNT_8   73940\n",
       "RAMNT_9   78678\n",
       "RAMNT_11  80672\n",
       "RAMNT_12  69712\n",
       "RAMNT_14  72095\n",
       "RAMNT_16  68418\n",
       "RAMNT_18  75634\n",
       "RAMNT_19  79535\n",
       "RAMNT_22  74539\n",
       "RAMNT_24  77674\n",
       "NEXTDATE   9973"
      ]
     },
     "execution_count": 54,
     "metadata": {},
     "output_type": "execute_result"
    }
   ],
   "source": [
    "nullframe_num = pd.DataFrame(numerical.isna().sum(), columns = ['nulls'])\n",
    "nullframe_num[nullframe_num['nulls'] != 0]"
   ]
  },
  {
   "cell_type": "markdown",
   "id": "f121f1dc",
   "metadata": {},
   "source": [
    "## RAMNT"
   ]
  },
  {
   "cell_type": "code",
   "execution_count": 55,
   "id": "87d7503e",
   "metadata": {},
   "outputs": [],
   "source": [
    "# The vast majority are null values\n",
    "# numerical['RAMNT_12'].value_counts(dropna = False)"
   ]
  },
  {
   "cell_type": "code",
   "execution_count": 56,
   "id": "29433bff",
   "metadata": {},
   "outputs": [
    {
     "data": {
      "text/plain": [
       "Series([], Name: RAMNT_12, dtype: float64)"
      ]
     },
     "execution_count": 56,
     "metadata": {},
     "output_type": "execute_result"
    }
   ],
   "source": [
    "# But no value is 0 so we can assume that the NaN are actualle the zeroes\n",
    "numerical[numerical['RAMNT_12']<1]['RAMNT_12']"
   ]
  },
  {
   "cell_type": "code",
   "execution_count": 57,
   "id": "56726ea7",
   "metadata": {},
   "outputs": [],
   "source": [
    "# We eliminate all but the most recent of the very similar columns\n",
    "# and replace the NaN in the remaining with 0\n",
    "for i in numerical.columns:\n",
    "    if i == 'RAMNT_8':\n",
    "        pass\n",
    "    elif 'RAMNT' in i:\n",
    "        numerical = numerical.drop(columns= [i])"
   ]
  },
  {
   "cell_type": "code",
   "execution_count": 58,
   "id": "f314a706",
   "metadata": {},
   "outputs": [
    {
     "data": {
      "text/html": [
       "<div>\n",
       "<style scoped>\n",
       "    .dataframe tbody tr th:only-of-type {\n",
       "        vertical-align: middle;\n",
       "    }\n",
       "\n",
       "    .dataframe tbody tr th {\n",
       "        vertical-align: top;\n",
       "    }\n",
       "\n",
       "    .dataframe thead th {\n",
       "        text-align: right;\n",
       "    }\n",
       "</style>\n",
       "<table border=\"1\" class=\"dataframe\">\n",
       "  <thead>\n",
       "    <tr style=\"text-align: right;\">\n",
       "      <th></th>\n",
       "      <th>nulls</th>\n",
       "    </tr>\n",
       "  </thead>\n",
       "  <tbody>\n",
       "    <tr>\n",
       "      <th>RAMNT_8</th>\n",
       "      <td>73940</td>\n",
       "    </tr>\n",
       "    <tr>\n",
       "      <th>NEXTDATE</th>\n",
       "      <td>9973</td>\n",
       "    </tr>\n",
       "  </tbody>\n",
       "</table>\n",
       "</div>"
      ],
      "text/plain": [
       "          nulls\n",
       "RAMNT_8   73940\n",
       "NEXTDATE   9973"
      ]
     },
     "execution_count": 58,
     "metadata": {},
     "output_type": "execute_result"
    }
   ],
   "source": [
    "nullframe_num = pd.DataFrame(numerical.isna().sum(), columns = ['nulls'])\n",
    "nullframe_num[nullframe_num['nulls'] != 0]"
   ]
  },
  {
   "cell_type": "code",
   "execution_count": 59,
   "id": "d2d7ecef",
   "metadata": {},
   "outputs": [],
   "source": [
    "numerical['RAMNT_8'].fillna(0,inplace = True)"
   ]
  },
  {
   "cell_type": "markdown",
   "id": "b2559f8a",
   "metadata": {},
   "source": [
    "## NEXTDATE"
   ]
  },
  {
   "cell_type": "code",
   "execution_count": 60,
   "id": "1ad9345b",
   "metadata": {},
   "outputs": [],
   "source": [
    "# This is the date of the second gift of a donor, while the date itself is not interesting,\n",
    "# the fact that someone giftet a second time is. so we categorize nan as 0 for no second gift\n",
    "# and the dates as 1 for there has beeen a second gift\n",
    "\n",
    "# numerical['NEXTDATE'].value_counts(dropna = False)"
   ]
  },
  {
   "cell_type": "code",
   "execution_count": 61,
   "id": "08c9219e",
   "metadata": {},
   "outputs": [
    {
     "data": {
      "text/plain": [
       "1.0    85439\n",
       "0.0     9973\n",
       "Name: NEXTDATE, dtype: int64"
      ]
     },
     "execution_count": 61,
     "metadata": {},
     "output_type": "execute_result"
    }
   ],
   "source": [
    "numerical['NEXTDATE'] = numerical['NEXTDATE'].fillna(0)\n",
    "numerical['NEXTDATE'] = numerical['NEXTDATE'].apply(lambda x: x if x == 0 else 1)\n",
    "numerical['NEXTDATE'].value_counts()"
   ]
  },
  {
   "cell_type": "code",
   "execution_count": 62,
   "id": "11c9c1e3",
   "metadata": {},
   "outputs": [
    {
     "data": {
      "text/html": [
       "<div>\n",
       "<style scoped>\n",
       "    .dataframe tbody tr th:only-of-type {\n",
       "        vertical-align: middle;\n",
       "    }\n",
       "\n",
       "    .dataframe tbody tr th {\n",
       "        vertical-align: top;\n",
       "    }\n",
       "\n",
       "    .dataframe thead th {\n",
       "        text-align: right;\n",
       "    }\n",
       "</style>\n",
       "<table border=\"1\" class=\"dataframe\">\n",
       "  <thead>\n",
       "    <tr style=\"text-align: right;\">\n",
       "      <th></th>\n",
       "      <th>nulls</th>\n",
       "    </tr>\n",
       "  </thead>\n",
       "  <tbody>\n",
       "  </tbody>\n",
       "</table>\n",
       "</div>"
      ],
      "text/plain": [
       "Empty DataFrame\n",
       "Columns: [nulls]\n",
       "Index: []"
      ]
     },
     "execution_count": 62,
     "metadata": {},
     "output_type": "execute_result"
    }
   ],
   "source": [
    "# There are no null values left\n",
    "nullframe_num = pd.DataFrame(numerical.isna().sum(), columns = ['nulls'])\n",
    "nullframe_num[nullframe_num['nulls'] != 0]"
   ]
  },
  {
   "cell_type": "markdown",
   "id": "1b254d26",
   "metadata": {},
   "source": [
    "# Saving"
   ]
  },
  {
   "cell_type": "code",
   "execution_count": null,
   "id": "09f86ba5",
   "metadata": {},
   "outputs": [],
   "source": [
    "numerical.to_csv('numerical7_02.csv')\n",
    "categorical.to_csv('categorical7_02.csv')\n",
    "Y.to_csv('target7_02.csv')"
   ]
  }
 ],
 "metadata": {
  "kernelspec": {
   "display_name": "Python 3 (ipykernel)",
   "language": "python",
   "name": "python3"
  },
  "language_info": {
   "codemirror_mode": {
    "name": "ipython",
    "version": 3
   },
   "file_extension": ".py",
   "mimetype": "text/x-python",
   "name": "python",
   "nbconvert_exporter": "python",
   "pygments_lexer": "ipython3",
   "version": "3.9.13"
  }
 },
 "nbformat": 4,
 "nbformat_minor": 5
}
